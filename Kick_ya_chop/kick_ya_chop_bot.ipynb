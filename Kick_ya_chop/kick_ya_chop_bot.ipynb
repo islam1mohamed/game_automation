{
 "cells": [
  {
   "cell_type": "code",
   "execution_count": 1,
   "id": "221b9a24",
   "metadata": {},
   "outputs": [],
   "source": [
    "import cv2\n",
    "import numpy as np\n",
    "import pyautogui\n",
    "import keyboard\n",
    "import time\n",
    "import PIL\n",
    "\n",
    "pyautogui.PAUSE = 0\n"
   ]
  },
  {
   "cell_type": "markdown",
   "id": "b413eba3",
   "metadata": {},
   "source": [
    "# original image"
   ]
  },
  {
   "cell_type": "code",
   "execution_count": 2,
   "id": "036d0d7f",
   "metadata": {},
   "outputs": [
    {
     "name": "stdout",
     "output_type": "stream",
     "text": [
      "0.7839315\n",
      "0.7835212\n",
      "0.9999998\n",
      "1.0\n"
     ]
    }
   ],
   "source": [
    "left_log_img = cv2.imread(\"Left_log.png\") # 335,650-> 450,680\n",
    "left_log = left_log_img[650:675,335:450]\n",
    "\n",
    "\n",
    "right_log_img = cv2.imread(\"Right_log.png\")\n",
    "right_log = right_log_img[650:675,535:625] #535 , 625\n",
    "\n",
    "left_match = cv2.matchTemplate(right_log_img , left_log , cv2.TM_CCOEFF_NORMED)\n",
    "right_match = cv2.matchTemplate(left_log_img, right_log , cv2.TM_CCOEFF_NORMED)\n",
    "# true tests\n",
    "# min , min2 , max ,max2 = left_match.max\n",
    "print(left_match.max())\n",
    "print(right_match.max())\n",
    "\n",
    "#testing\n",
    "left_match = cv2.matchTemplate(left_log_img , left_log , cv2.TM_CCOEFF_NORMED)\n",
    "right_match = cv2.matchTemplate(right_log_img, right_log , cv2.TM_CCOEFF_NORMED)\n",
    "# false tests\n",
    "print(left_match.max())\n",
    "print(right_match.max())\n",
    "\n",
    "\n",
    "# cv2.imshow(\"screenshot\", right_log)\n",
    "\n",
    "# if cv2.waitKey() == ord('q'):\n",
    "    \n",
    "#     cv2.destroyAllWindows()\n"
   ]
  },
  {
   "cell_type": "markdown",
   "id": "4646442d",
   "metadata": {},
   "source": [
    "# bot code"
   ]
  },
  {
   "cell_type": "markdown",
   "id": "6f58b273",
   "metadata": {},
   "source": [
    "## image augmentation"
   ]
  },
  {
   "cell_type": "code",
   "execution_count": 3,
   "id": "625c1ca1",
   "metadata": {
    "scrolled": true
   },
   "outputs": [],
   "source": [
    "\n",
    "def augmentation_large(image):\n",
    "    \n",
    "    img = np.array(image)\n",
    "    \n",
    "    img.shape #(1080, 1920, 3)\n",
    "    \n",
    "    img = img[500:650,330:650]\n",
    "    \n",
    "    img = cv2.cvtColor(img , cv2.COLOR_RGB2BGR)\n",
    "#     cv2.imshow(\"screenshot\", img)\n",
    "#     if cv2.waitKey(1) == ord('q'):\n",
    "#         cv2.destroyAllWindows()\n",
    "    \n",
    "    return img\n",
    "\n"
   ]
  },
  {
   "cell_type": "code",
   "execution_count": 4,
   "id": "3e375dc1",
   "metadata": {},
   "outputs": [],
   "source": [
    "go_right = 0\n",
    "go_left = 1\n",
    "    \n",
    "def dodge(side):\n",
    "\n",
    "    if side == go_right:\n",
    "        # press right  625, 650\n",
    "        pyautogui.click((550, 500))\n",
    "    if side == go_left:\n",
    "        # press left    335,650\n",
    "        pyautogui.click((335,500))\n",
    "\n",
    "# dodge(go_left)"
   ]
  },
  {
   "cell_type": "code",
   "execution_count": 5,
   "id": "c6942214",
   "metadata": {},
   "outputs": [],
   "source": [
    "# file save \n",
    "import os\n",
    "\n",
    "save_dir = r\"D:\\Study\\programmingLanguages\\python\\Python_projects\\Game_automation\\Kick_ya_chop\\imgs\"\n",
    "os.makedirs(save_dir, exist_ok=True)\n",
    "\n",
    "def save_imgs():\n",
    "    save_path = os.path.join(save_dir, f\"frame{num}.jpg\")\n",
    "    cv2.imwrite(save_path, img)\n"
   ]
  },
  {
   "cell_type": "code",
   "execution_count": null,
   "id": "e6f9a590",
   "metadata": {
    "scrolled": true
   },
   "outputs": [],
   "source": [
    "threshold = 0.5\n",
    "motion = go_right\n",
    "num = 0\n",
    "keyboard.wait(\"s\")\n",
    "while True:\n",
    "    num+=1\n",
    "    time.sleep(0.02)\n",
    "    img = PIL.ImageGrab.grab()\n",
    "    img = augmentation_large(img)\n",
    "    \n",
    "\n",
    "    #template matching\n",
    "\n",
    "#     save_imgs()\n",
    "#     print(left_match.max())\n",
    "#     print(right_match.max())\n",
    "\n",
    "    if motion == go_left:\n",
    "        left_img = img [:,: int(img.shape[1]/2)]\n",
    "        left_match = cv2.matchTemplate(left_img , left_log , cv2.TM_CCOEFF_NORMED)\n",
    "        \n",
    "        if left_match.max() > threshold:\n",
    "            #press right\n",
    "            print(\"go_right\")\n",
    "            motion = go_right\n",
    "            \n",
    "            \n",
    "    if motion == go_right:\n",
    "        right_img = img [:, int(img.shape[1]/2):]\n",
    "        right_match = cv2.matchTemplate(right_img, right_log , cv2.TM_CCOEFF_NORMED)\n",
    "\n",
    "        if right_match.max() > threshold:\n",
    "            #press left\n",
    "            print(\"go_left\")\n",
    "            motion = go_left\n",
    "        \n",
    "    dodge(motion)\n",
    "\n",
    "    \n",
    "\n",
    "\n",
    "    if keyboard.is_pressed(\"q\"):\n",
    "        break\n",
    "# print(\"success\")s\n"
   ]
  },
  {
   "cell_type": "code",
   "execution_count": null,
   "id": "39a9c2fd",
   "metadata": {},
   "outputs": [],
   "source": [
    "   # adjusting screen taken\n",
    "def adjust_screen():\n",
    "    img = pyautogui.screenshot()\n",
    "    img = augmentation(img)\n",
    "    left_img = img [:,:int(img.shape[1]/2)]\n",
    "    right_img = img [:,int(img.shape[1]/2):]\n",
    "    cv2.imshow(\"right\", right_img)\n",
    "    cv2.imshow(\"left\", left_img)\n",
    "    cv2.waitKey()\n",
    "    cv2.destroyAllWindows()\n"
   ]
  },
  {
   "cell_type": "markdown",
   "id": "260b94d9",
   "metadata": {},
   "source": []
  },
  {
   "cell_type": "code",
   "execution_count": null,
   "id": "1d0429b5",
   "metadata": {},
   "outputs": [],
   "source": []
  }
 ],
 "metadata": {
  "kernelspec": {
   "display_name": "Python 3 (ipykernel)",
   "language": "python",
   "name": "python3"
  },
  "language_info": {
   "codemirror_mode": {
    "name": "ipython",
    "version": 3
   },
   "file_extension": ".py",
   "mimetype": "text/x-python",
   "name": "python",
   "nbconvert_exporter": "python",
   "pygments_lexer": "ipython3",
   "version": "3.11.3"
  }
 },
 "nbformat": 4,
 "nbformat_minor": 5
}
